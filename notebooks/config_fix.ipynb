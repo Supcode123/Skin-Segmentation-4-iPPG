{
 "cells": [
  {
   "cell_type": "code",
   "execution_count": 1,
   "id": "c77c65d6-e986-4dc1-a87e-8308d58de36b",
   "metadata": {},
   "outputs": [],
   "source": [
    "from glob import glob\n",
    "import os\n",
    "import cv2"
   ]
  },
  {
   "cell_type": "code",
   "execution_count": 17,
   "id": "16192434-23bf-4c1b-8eee-04ee921588be",
   "metadata": {},
   "outputs": [
    {
     "name": "stdout",
     "output_type": "stream",
     "text": [
      "Total images: 30000, Total masks: 30000\n"
     ]
    }
   ],
   "source": [
    "DATASET_PATH = r\"H:\\CelebAMask-HQ\\dataset_raw\"\n",
    "IMAGE_FOLDER = os.path.join(DATASET_PATH, \"CelebA-HQ-img\")\n",
    "LABEL_FOLDER = os.path.join(DATASET_PATH, \"CelebAMaskHQ-mask\")\n",
    "output_img_dir = os.path.join(DATASET_PATH,\"256x256\",\"images\")\n",
    "output_mask_dir = os.path.join(DATASET_PATH,\"256x256\",\"masks\")\n",
    "\n",
    "image_paths = sorted(glob(os.path.join(IMAGE_FOLDER, \"*.jpg\")))\n",
    "mask_paths = sorted(glob(os.path.join(LABEL_FOLDER, \"*.png\")))\n",
    "\n",
    "print(f\"Total images: {len(image_paths)}, Total masks: {len(mask_paths)}\")\n",
    "\n",
    "for img_path, mask_path in zip(image_paths, mask_paths):\n",
    "    img_name = os.path.splitext(os.path.basename(img_path))[0]  \n",
    "    mask_name = os.path.splitext(os.path.basename(mask_path))[0]  \n",
    "\n",
    "    if img_name != mask_name:\n",
    "        print(f\"Mismatch: {img_name} vs {mask_name}\")\n"
   ]
  },
  {
   "cell_type": "code",
   "execution_count": 19,
   "id": "9c15ea78-d60d-47b8-a375-88d0b5ed1a50",
   "metadata": {},
   "outputs": [],
   "source": [
    "\n",
    " for img_path_downscaled, mask_path_downscaled in zip(glob(os.path.join(IMAGE_FOLDER, \"*.jpg\")), glob(os.path.join(LABEL_FOLDER, \"*.png\"))):\n",
    "    \n",
    "    img_downscaled = cv2.imread(img_path_downscaled)\n",
    "    mask_downscaled = cv2.imread(mask_path_downscaled, cv2.IMREAD_UNCHANGED)\n",
    "    \n",
    "    d_img = cv2.resize(img_downscaled, (256, 256), interpolation=cv2.INTER_AREA)\n",
    "    d_mask = cv2.resize(mask_downscaled, (256, 256), interpolation=cv2.INTER_NEAREST)\n",
    "    \n",
    "    img_output_path = os.path.join(output_img_dir, os.path.basename(img_path_downscaled))\n",
    "    mask_output_path = os.path.join(output_mask_dir, os.path.basename(mask_path_downscaled))\n",
    "    \n",
    "    cv2.imwrite(img_output_path, d_img)\n",
    "    cv2.imwrite(mask_output_path, d_mask)"
   ]
  },
  {
   "cell_type": "code",
   "execution_count": null,
   "id": "e645c0c5-2383-460d-90bf-d3b924f97127",
   "metadata": {},
   "outputs": [],
   "source": []
  }
 ],
 "metadata": {
  "kernelspec": {
   "display_name": "Python 3 (ipykernel)",
   "language": "python",
   "name": "python3"
  },
  "language_info": {
   "codemirror_mode": {
    "name": "ipython",
    "version": 3
   },
   "file_extension": ".py",
   "mimetype": "text/x-python",
   "name": "python",
   "nbconvert_exporter": "python",
   "pygments_lexer": "ipython3",
   "version": "3.12.7"
  }
 },
 "nbformat": 4,
 "nbformat_minor": 5
}
