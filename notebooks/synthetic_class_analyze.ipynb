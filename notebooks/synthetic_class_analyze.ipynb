{
 "cells": [
  {
   "cell_type": "code",
   "execution_count": 5,
   "id": "8e700ec1-218a-4466-9f07-90aba71006ad",
   "metadata": {},
   "outputs": [],
   "source": [
    "import os\n",
    "from PIL import Image\n",
    "import numpy as np\n",
    "import pandas as pd\n",
    "from tqdm import tqdm"
   ]
  },
  {
   "cell_type": "code",
   "execution_count": 7,
   "id": "f56aa87d-7f23-40a5-8692-ccecd6e52538",
   "metadata": {},
   "outputs": [],
   "source": [
    "DATA_PATH = r\"D:\\sythetic_data\\dataset_100\\256x256\""
   ]
  },
  {
   "cell_type": "code",
   "execution_count": 158,
   "id": "68f7e9c9-ab46-4af8-b976-8436f238cd7d",
   "metadata": {},
   "outputs": [],
   "source": [
    "\n",
    "def Traver(mode,DATA_PATH):\n",
    "    data=[]\n",
    "    print(f\"######explore {mode} dataset######\")\n",
    "    path = os.path.join(DATA_PATH, mode, \"labels\")\n",
    "    file = os.listdir(path)\n",
    "    file_num = 1\n",
    "    for i in tqdm(file, desc=f\"{file_num}/{len(file)}\", unit= \"i\" ) : \n",
    "        mask = np.array(Image.open(os.path.join(path, i)))\n",
    "        cls, counts = np.unique(mask, return_counts=True) \n",
    "        if (cls == 18).any():\n",
    "            index = np.where(cls == 18) \n",
    "            num = counts[index[0]][0]\n",
    "            ID = i.split('_seg')[0] \n",
    "            data.append([ID, cls[index[0]][0], num])\n",
    "        file_num += 1\n",
    "    return data"
   ]
  },
  {
   "cell_type": "code",
   "execution_count": 160,
   "id": "57c8cbfd-e6d5-4992-8be6-b801a1aed632",
   "metadata": {},
   "outputs": [
    {
     "name": "stdout",
     "output_type": "stream",
     "text": [
      "######explore train dataset######\n"
     ]
    },
    {
     "name": "stderr",
     "output_type": "stream",
     "text": [
      "1/60000: 100%|████████████████████████████████████████████████████████████████████| 60000/60000 [24:56<00:00, 40.10i/s]\n"
     ]
    }
   ],
   "source": [
    "mode = 'train'\n",
    "facewear_train = Traver(mode, DATA_PATH)"
   ]
  },
  {
   "cell_type": "code",
   "execution_count": 162,
   "id": "ad201ccd-cf97-4364-90d3-4d61a2c36794",
   "metadata": {},
   "outputs": [
    {
     "data": {
      "text/plain": [
       "[]"
      ]
     },
     "execution_count": 162,
     "metadata": {},
     "output_type": "execute_result"
    }
   ],
   "source": [
    "facewear_train"
   ]
  },
  {
   "cell_type": "code",
   "execution_count": 164,
   "id": "dd9958ff-04a4-419b-9dbb-c1364d6ee27d",
   "metadata": {},
   "outputs": [
    {
     "name": "stdout",
     "output_type": "stream",
     "text": [
      "######explore val dataset######\n"
     ]
    },
    {
     "name": "stderr",
     "output_type": "stream",
     "text": [
      "1/20000: 100%|████████████████████████████████████████████████████████████████████| 20000/20000 [08:40<00:00, 38.44i/s]\n"
     ]
    }
   ],
   "source": [
    "mode = 'val'\n",
    "facewear_val = Traver(mode, DATA_PATH)"
   ]
  },
  {
   "cell_type": "code",
   "execution_count": 166,
   "id": "337fbf13-c3d9-4194-98f1-fab77c98731b",
   "metadata": {},
   "outputs": [
    {
     "data": {
      "text/plain": [
       "[]"
      ]
     },
     "execution_count": 166,
     "metadata": {},
     "output_type": "execute_result"
    }
   ],
   "source": [
    "facewear_val"
   ]
  },
  {
   "cell_type": "code",
   "execution_count": 168,
   "id": "ee5554d5-ae00-4207-bc4c-df6b99fce918",
   "metadata": {},
   "outputs": [
    {
     "name": "stdout",
     "output_type": "stream",
     "text": [
      "######explore test dataset######\n"
     ]
    },
    {
     "name": "stderr",
     "output_type": "stream",
     "text": [
      "1/20000: 100%|████████████████████████████████████████████████████████████████████| 20000/20000 [08:56<00:00, 37.29i/s]\n"
     ]
    }
   ],
   "source": [
    "mode = 'test'\n",
    "facewear_test = Traver(mode, DATA_PATH)"
   ]
  },
  {
   "cell_type": "code",
   "execution_count": 170,
   "id": "e8e58e38-6885-414d-8349-f42a6df2fba3",
   "metadata": {},
   "outputs": [
    {
     "data": {
      "text/plain": [
       "[]"
      ]
     },
     "execution_count": 170,
     "metadata": {},
     "output_type": "execute_result"
    }
   ],
   "source": [
    "facewear_test"
   ]
  },
  {
   "cell_type": "code",
   "execution_count": 172,
   "id": "9a8f1786-7ccc-4fdf-a253-08424be04adb",
   "metadata": {},
   "outputs": [
    {
     "name": "stdout",
     "output_type": "stream",
     "text": [
      "Empty DataFrame\n",
      "Columns: [id, cls, num]\n",
      "Index: []\n"
     ]
    }
   ],
   "source": [
    "df = pd.DataFrame(facewear_train, columns=['id', 'cls', 'num'])\n",
    "print(df)"
   ]
  },
  {
   "cell_type": "markdown",
   "id": "83f81e0f",
   "metadata": {},
   "source": [
    "## Remapping"
   ]
  },
  {
   "cell_type": "code",
   "execution_count": 12,
   "id": "2d4055fd",
   "metadata": {},
   "outputs": [],
   "source": [
    "\n",
    "\"\"\"Remap mask which smplified classes\"\"\"\n",
    "class_remapping = {\n",
    "     0: [0],\n",
    "     1: [1,2],\n",
    "     2: [3,4,5,6,7,8,9,10,11,12,13,14,15,16,17],\n",
    "   255: [255],\n",
    " }\n"
   ]
  },
  {
   "cell_type": "code",
   "execution_count": 13,
   "id": "8583048d",
   "metadata": {},
   "outputs": [],
   "source": [
    "reverse_mapping = {}\n",
    "for new_class, old_classes in class_remapping.items():\n",
    "    for old_class in old_classes:\n",
    "        reverse_mapping[old_class] = new_class"
   ]
  },
  {
   "cell_type": "code",
   "execution_count": 14,
   "id": "31657cb6",
   "metadata": {},
   "outputs": [],
   "source": [
    "mode = \"train\" #\"val\", \"test\""
   ]
  },
  {
   "cell_type": "code",
   "execution_count": 15,
   "id": "09cc6fc9",
   "metadata": {},
   "outputs": [],
   "source": [
    "input_folder = os.path.join(DATA_PATH, mode, \"labels\") \n",
    "output_folder = os.path.join(DATA_PATH, mode, \"new_labels\")  \n",
    "\n",
    "os.makedirs(output_folder, exist_ok=True)"
   ]
  },
  {
   "cell_type": "code",
   "execution_count": 16,
   "id": "121dc4b9",
   "metadata": {},
   "outputs": [],
   "source": [
    "for filename in os.listdir(input_folder):\n",
    "    input_path = os.path.join(input_folder, filename)\n",
    "\n",
    "    if os.path.isfile(input_path) and filename.endswith('.png'): \n",
    "    \n",
    "        img = Image.open(input_path)\n",
    "        img = np.array(img)  \n",
    "        \n",
    "        remapped_img = np.vectorize(lambda x: reverse_mapping.get(x, x))(img)\n",
    "        remapped_img = Image.fromarray(remapped_img.astype(np.uint8))\n",
    "        output_path = os.path.join(output_folder, filename)\n",
    "        remapped_img.save(output_path)\n"
   ]
  },
  {
   "cell_type": "code",
   "execution_count": 19,
   "id": "b3292b69",
   "metadata": {},
   "outputs": [],
   "source": [
    "image = np.array(Image.open(os.path.join(input_folder, \"000001_seg.png\")))"
   ]
  },
  {
   "cell_type": "code",
   "execution_count": 20,
   "id": "6548c553",
   "metadata": {},
   "outputs": [
    {
     "data": {
      "text/plain": [
       "array([ 0,  1,  2,  3,  4,  5,  6,  8, 10, 11, 12, 13, 15], dtype=uint8)"
      ]
     },
     "execution_count": 20,
     "metadata": {},
     "output_type": "execute_result"
    }
   ],
   "source": [
    "np.unique(image)"
   ]
  },
  {
   "cell_type": "code",
   "execution_count": 21,
   "id": "858c552e",
   "metadata": {},
   "outputs": [
    {
     "data": {
      "text/plain": [
       "array([0, 1, 2], dtype=uint8)"
      ]
     },
     "execution_count": 21,
     "metadata": {},
     "output_type": "execute_result"
    }
   ],
   "source": [
    "image = np.array(Image.open(os.path.join(output_folder, \"000001_seg.png\")))\n",
    "np.unique(image)"
   ]
  },
  {
   "cell_type": "code",
   "execution_count": null,
   "id": "8775657b",
   "metadata": {},
   "outputs": [],
   "source": []
  }
 ],
 "metadata": {
  "kernelspec": {
   "display_name": "Python 3 (ipykernel)",
   "language": "python",
   "name": "python3"
  },
  "language_info": {
   "codemirror_mode": {
    "name": "ipython",
    "version": 3
   },
   "file_extension": ".py",
   "mimetype": "text/x-python",
   "name": "python",
   "nbconvert_exporter": "python",
   "pygments_lexer": "ipython3",
   "version": "3.9.7"
  }
 },
 "nbformat": 4,
 "nbformat_minor": 5
}
